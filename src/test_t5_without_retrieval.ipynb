{
 "cells": [
  {
   "cell_type": "code",
   "execution_count": 1,
   "metadata": {},
   "outputs": [],
   "source": [
    "#model_checkpoint = \"t5-base\"\n",
    "# model_checkpoint = \"unicamp-dl/ptt5-base-t5-vocab\"\n",
    "model_checkpoint = 'QA-ptt5-base-without-retrieval/checkpoint-9000'\n",
    "#model_checkpoint = \"facebook/bart-base\"\n",
    "#model_checkpoint = \"unicamp-dl/ptt5-base-t5-vocab\"\n",
    "#model_checkpoint = 'neuralmind/bert-base-portuguese-cased'"
   ]
  },
  {
   "cell_type": "code",
   "execution_count": 2,
   "metadata": {},
   "outputs": [],
   "source": [
    "import pandas as pd\n",
    "\n",
    "PATH_QUESTION = 'finetune_qa_pairs_14k/'\n",
    "\n",
    "max_input_length = 512\n",
    "max_target_length = 32\n",
    "test_source = pd.read_csv(PATH_QUESTION + 'test.source', sep = \"\\t\", header = None).values.tolist()  \n",
    "\n",
    "test_target = pd.read_csv(PATH_QUESTION + 'test.target', sep = \"\\t\", header = None).values.tolist()   \n"
   ]
  },
  {
   "cell_type": "code",
   "execution_count": 3,
   "metadata": {},
   "outputs": [],
   "source": [
    "import pandas as pd\n",
    "import ast\n",
    "\n",
    "def preprocess(source, target):\n",
    "    questions = []\n",
    "    answer = []\n",
    "    for i in range(len(source)):\n",
    "        questions.append( \"question: \" + source[i][0])\n",
    "        answer.append(target[i][0])\n",
    "\n",
    "    pd_dataset = pd.DataFrame({'question': questions, 'answer' : answer})\n",
    "    pd_dataset.head()\n",
    "    \n",
    "    return(pd_dataset)\n",
    "\n",
    "\n",
    "pd_dataset_test = preprocess(test_source, test_target)\n"
   ]
  },
  {
   "cell_type": "code",
   "execution_count": 4,
   "metadata": {},
   "outputs": [],
   "source": [
    "from datasets import load_dataset, load_metric, DatasetDict, Dataset\n",
    "\n",
    "\n",
    "dataset_test = Dataset.from_pandas(df=pd_dataset_test)\n",
    "\n",
    "\n",
    "raw_datasets = DatasetDict({\n",
    "    'test': dataset_test})\n",
    "metric = load_metric(\"rouge\")"
   ]
  },
  {
   "cell_type": "code",
   "execution_count": 5,
   "metadata": {},
   "outputs": [],
   "source": [
    "from transformers import AutoTokenizer, T5Tokenizer, T5TokenizerFast, TFT5Model, TFT5ForConditionalGeneration\n",
    "\n",
    "#tokenizer = AutoTokenizer.from_pretrained(model_checkpoint)\n",
    "tokenizer = T5Tokenizer.from_pretrained(model_checkpoint)\n"
   ]
  },
  {
   "cell_type": "code",
   "execution_count": 6,
   "metadata": {},
   "outputs": [],
   "source": [
    "\n",
    "\n",
    "def preprocess_input(examples):\n",
    "    model_inputs = tokenizer(examples[\"question\"], max_length=max_input_length, truncation=True)\n",
    "    return model_inputs\n",
    "\n",
    "def preprocess_function(examples):\n",
    "    model_inputs = preprocess_input(examples)\n",
    "    # Setup the tokenizer for targets\n",
    "    labels = tokenizer(examples[\"answer\"], max_length=max_target_length, truncation=True)\n",
    "\n",
    "    model_inputs[\"labels\"] = labels[\"input_ids\"]\n",
    "    return model_inputs"
   ]
  },
  {
   "cell_type": "code",
   "execution_count": 7,
   "metadata": {},
   "outputs": [
    {
     "data": {
      "application/vnd.jupyter.widget-view+json": {
       "model_id": "4bff6cb3e3e14a31b5c510a1ac726989",
       "version_major": 2,
       "version_minor": 0
      },
      "text/plain": [
       "  0%|          | 0/1 [00:00<?, ?ba/s]"
      ]
     },
     "metadata": {},
     "output_type": "display_data"
    }
   ],
   "source": [
    "tokenized_datasets = raw_datasets.map(preprocess_function, batched=True)\n"
   ]
  },
  {
   "cell_type": "code",
   "execution_count": 8,
   "metadata": {},
   "outputs": [],
   "source": [
    "from transformers import AutoModelForSeq2SeqLM, DataCollatorForSeq2Seq, Seq2SeqTrainingArguments, Seq2SeqTrainer\n",
    "\n",
    "model = AutoModelForSeq2SeqLM.from_pretrained(model_checkpoint)"
   ]
  },
  {
   "cell_type": "code",
   "execution_count": 9,
   "metadata": {},
   "outputs": [],
   "source": [
    "batch_size = 4\n",
    "args = Seq2SeqTrainingArguments(\n",
    "    \"test-model\",\n",
    "    evaluation_strategy = \"epoch\",\n",
    "    learning_rate=2e-5,\n",
    "    per_device_train_batch_size=batch_size,\n",
    "    per_device_eval_batch_size=batch_size,\n",
    "    weight_decay=0.01,\n",
    "    save_total_limit=3,\n",
    "    num_train_epochs=30,\n",
    "    predict_with_generate=True,\n",
    "    fp16=True,\n",
    "    gradient_accumulation_steps = 4\n",
    ")"
   ]
  },
  {
   "cell_type": "code",
   "execution_count": 10,
   "metadata": {},
   "outputs": [],
   "source": [
    "data_collator = DataCollatorForSeq2Seq(tokenizer, model=model)"
   ]
  },
  {
   "cell_type": "code",
   "execution_count": 11,
   "metadata": {},
   "outputs": [],
   "source": [
    "import nltk\n",
    "#nltk.download('punkt')\n",
    "import numpy as np\n",
    "\n",
    "def compute_metrics(eval_pred):\n",
    "    predictions, labels = eval_pred\n",
    "    decoded_preds = tokenizer.batch_decode(predictions, skip_special_tokens=True)\n",
    "    # Replace -100 in the labels as we can't decode them.\n",
    "    labels = np.where(labels != -100, labels, tokenizer.pad_token_id)\n",
    "    decoded_labels = tokenizer.batch_decode(labels, skip_special_tokens=True)\n",
    "    \n",
    "    # Rouge expects a newline after each sentence\n",
    "    decoded_preds = [\"\\n\".join(nltk.sent_tokenize(pred.strip())) for pred in decoded_preds]\n",
    "    decoded_labels = [\"\\n\".join(nltk.sent_tokenize(label.strip())) for label in decoded_labels]\n",
    "    \n",
    "    result = metric.compute(predictions=decoded_preds, references=decoded_labels, use_stemmer=True)\n",
    "    # Extract a few results\n",
    "    result = {key: value.mid.fmeasure * 100 for key, value in result.items()}\n",
    "    \n",
    "    # Add mean generated length\n",
    "    prediction_lens = [np.count_nonzero(pred != tokenizer.pad_token_id) for pred in predictions]\n",
    "    result[\"gen_len\"] = np.mean(prediction_lens)\n",
    "    \n",
    "    return {k: round(v, 4) for k, v in result.items()}"
   ]
  },
  {
   "cell_type": "code",
   "execution_count": 12,
   "metadata": {},
   "outputs": [],
   "source": [
    "trainer = Seq2SeqTrainer(\n",
    "    model,\n",
    "    args,\n",
    "    data_collator=data_collator,\n",
    "    tokenizer=tokenizer,\n",
    "    compute_metrics=compute_metrics\n",
    ")"
   ]
  },
  {
   "cell_type": "code",
   "execution_count": 13,
   "metadata": {},
   "outputs": [
    {
     "name": "stderr",
     "output_type": "stream",
     "text": [
      "/home/blab-answerer/anaconda3/lib/python3.8/site-packages/torch/nn/parallel/_functions.py:65: UserWarning: Was asked to gather along dimension 0, but all input tensors were scalars; will instead unsqueeze and return a vector.\n",
      "  warnings.warn('Was asked to gather along dimension 0, but all '\n"
     ]
    },
    {
     "data": {
      "text/html": [
       "\n",
       "    <div>\n",
       "        <style>\n",
       "            /* Turns off some styling */\n",
       "            progress {\n",
       "                /* gets rid of default border in Firefox and Opera. */\n",
       "                border: none;\n",
       "                /* Needs to be in here for Safari polyfill so background images work as expected. */\n",
       "                background-size: auto;\n",
       "            }\n",
       "        </style>\n",
       "      \n",
       "      <progress value='1' max='1' style='width:300px; height:20px; vertical-align: middle;'></progress>\n",
       "      [1/1 : < :]\n",
       "    </div>\n",
       "    "
      ],
      "text/plain": [
       "<IPython.core.display.HTML object>"
      ]
     },
     "metadata": {},
     "output_type": "display_data"
    }
   ],
   "source": [
    "a = trainer.predict(tokenized_datasets['test'], max_length=max_target_length)"
   ]
  },
  {
   "cell_type": "code",
   "execution_count": 14,
   "metadata": {},
   "outputs": [],
   "source": [
    "test_outputs = []\n",
    "test_labels = []\n",
    "for i in range(len(a.predictions)):\n",
    "    test_outputs.append(tokenizer.decode(a.predictions[i], skip_special_tokens=True))\n",
    "    test_labels.append(raw_datasets['test'][i]['answer'])\n",
    "pd_output = pd.DataFrame({'predicted' : test_outputs, 'label' : test_labels})"
   ]
  },
  {
   "cell_type": "code",
   "execution_count": 15,
   "metadata": {},
   "outputs": [],
   "source": [
    "from rouge_score import rouge_scorer\n",
    "from nltk.tokenize import word_tokenize\n",
    "from nltk.translate.bleu_score import SmoothingFunction\n",
    "from nltk.metrics import f_measure\n",
    "import nltk\n",
    "import string\n",
    "import re\n",
    "import collections\n",
    "\n",
    "def get_tokens(sentence):\n",
    "    tokens = word_tokenize(sentence)\n",
    "    return tokens\n",
    "\n",
    "def normalize_text(sentence):\n",
    "\n",
    "    def white_space_fix(text):\n",
    "        return \" \".join(text.split())\n",
    "\n",
    "    def remove_punc(text):\n",
    "        exclude = set(string.punctuation)\n",
    "        return \"\".join(ch for ch in text if ch not in exclude)\n",
    "\n",
    "    def lower(text):\n",
    "        return text.lower()\n",
    "    return white_space_fix(remove_punc(lower(sentence)))\n",
    "\n",
    "def f1_score_qa(text_true,text_pred):\n",
    "    \"squad\"\n",
    "    text_true = normalize_text(text_true)\n",
    "    text_pred = normalize_text(text_pred)\n",
    "    true_tokens = get_tokens(text_true)\n",
    "    pred_tokens = get_tokens(text_pred)\n",
    "    common = collections.Counter(true_tokens) & collections.Counter(pred_tokens)\n",
    "    num_same = sum(common.values())\n",
    "    if len(true_tokens) == 0 or len(pred_tokens) == 0:\n",
    "        return int(true_tokens==pred_tokens),int(true_tokens==pred_tokens),int(true_tokens==pred_tokens)\n",
    "    if num_same == 0:\n",
    "        return 0,0,0\n",
    "    precision = 1 * num_same / len(pred_tokens)\n",
    "    recall = 1 * num_same / len(true_tokens)\n",
    "    f1 = (2 * precision * recall) / (precision + recall)\n",
    "    return f1, precision, recall\n",
    "\n",
    "def em_qa(text_true,text_pred):\n",
    "    return int(normalize_text(text_true) == normalize_text(text_pred))\n",
    "\n",
    "def rouge_l_qa(text_true,text_pred):\n",
    "    scorer = rouge_scorer.RougeScorer(['rouge1', 'rougeL'], use_stemmer=True)\n",
    "    scores = scorer.score(text_true,text_pred)\n",
    "\n",
    "    return scores[\"rougeL\"].fmeasure\n",
    "\n",
    "def em_qa_overall(text_true,text_pred):\n",
    "    scores = 0\n",
    "    for i in range(len(text_true)):\n",
    "        scores += em_qa(text_true[i],text_pred[i])\n",
    "    score = scores/len(text_true)\n",
    "    return score\n",
    "\n",
    "def f1_score_qa_overall(text_true,text_pred):\n",
    "    f = 0\n",
    "    for i in range(len(text_true)):\n",
    "        fi,pi,ri = f1_score_qa(text_true[i],text_pred[i])\n",
    "        f+=fi\n",
    "    f = f/len(text_true)\n",
    "    return f\n",
    "\n",
    "def rouge_l_qa_overall(text_true,text_pred):\n",
    "    scores = 0\n",
    "    for i in range(len(text_true)):\n",
    "        score = rouge_l_qa(text_true[i],text_pred[i])\n",
    "        scores += score\n",
    "    scores = scores/len(text_true)\n",
    "    return scores\n",
    "\n",
    "def scores(func,text_true,text_pred):\n",
    "    if func=='rouge_l_qa':\n",
    "        score_value = rouge_l_qa(text_true,text_pred)\n",
    "    if func=='em_qa':\n",
    "        score_value = em_qa(text_true,text_pred)\n",
    "    if func=='f1_score_qa':\n",
    "        score_value = f1_score_qa(text_true,text_pred)\n",
    "    return (func, score_value)\n",
    "        \n",
    "\n",
    "def overall(func,text_true,text_pred):\n",
    "    if func=='rouge_l_qa_overall':\n",
    "        score_value = rouge_l_qa_overall(text_true,text_pred)\n",
    "    if func=='em_qa_overall':\n",
    "        score_value = em_qa_overall(text_true,text_pred)\n",
    "    if func=='f1_score_qa_overall':\n",
    "        score_value = f1_score_qa_overall(text_true,text_pred)\n",
    "    return (func, score_value)"
   ]
  },
  {
   "cell_type": "code",
   "execution_count": 16,
   "metadata": {},
   "outputs": [
    {
     "name": "stdout",
     "output_type": "stream",
     "text": [
      "f1-score: ('f1_score_qa_overall', 0.0)\n",
      "EM: ('em_qa_overall', 0.0)\n",
      "Rouge-L: ('rouge_l_qa_overall', 0.0)\n"
     ]
    }
   ],
   "source": [
    "print(\"f1-score: \" + str(overall(\"f1_score_qa_overall\", test_labels, test_outputs)))\n",
    "print(\"EM: \" + str(overall('em_qa_overall', test_labels, test_outputs)))\n",
    "print(\"Rouge-L: \" + str(overall('rouge_l_qa_overall', test_labels, test_outputs)))"
   ]
  },
  {
   "cell_type": "code",
   "execution_count": 17,
   "metadata": {},
   "outputs": [
    {
     "data": {
      "text/plain": [
       "['Qual foi o recorde de queimadas na Floresta Amazônica',\n",
       " 'Qual foi o posicionamento do Brasil na Cúpula do Clima de 2021',\n",
       " 'Quais foram as causas dos incêndios no Pantanal em 2020']"
      ]
     },
     "execution_count": 17,
     "metadata": {},
     "output_type": "execute_result"
    }
   ],
   "source": [
    "questions = []\n",
    "for i in range(len(test_source)):\n",
    "    questions.append(test_source[i][0])\n",
    "questions[0:3]"
   ]
  },
  {
   "cell_type": "code",
   "execution_count": 18,
   "metadata": {},
   "outputs": [
    {
     "name": "stdout",
     "output_type": "stream",
     "text": [
      "7\n"
     ]
    },
    {
     "data": {
      "text/html": [
       "<div>\n",
       "<style scoped>\n",
       "    .dataframe tbody tr th:only-of-type {\n",
       "        vertical-align: middle;\n",
       "    }\n",
       "\n",
       "    .dataframe tbody tr th {\n",
       "        vertical-align: top;\n",
       "    }\n",
       "\n",
       "    .dataframe thead th {\n",
       "        text-align: right;\n",
       "    }\n",
       "</style>\n",
       "<table border=\"1\" class=\"dataframe\">\n",
       "  <thead>\n",
       "    <tr style=\"text-align: right;\">\n",
       "      <th></th>\n",
       "      <th>question</th>\n",
       "      <th>answer</th>\n",
       "      <th>gen_answer</th>\n",
       "    </tr>\n",
       "  </thead>\n",
       "  <tbody>\n",
       "    <tr>\n",
       "      <th>0</th>\n",
       "      <td>Qual foi o recorde de queimadas na Floresta Am...</td>\n",
       "      <td></td>\n",
       "      <td>Mais de 3 milhões de hectares</td>\n",
       "    </tr>\n",
       "    <tr>\n",
       "      <th>1</th>\n",
       "      <td>Qual foi o posicionamento do Brasil na Cúpula ...</td>\n",
       "      <td></td>\n",
       "      <td>o clima global</td>\n",
       "    </tr>\n",
       "    <tr>\n",
       "      <th>2</th>\n",
       "      <td>Quais foram as causas dos incêndios no Pantana...</td>\n",
       "      <td></td>\n",
       "      <td>Desmatamento</td>\n",
       "    </tr>\n",
       "    <tr>\n",
       "      <th>3</th>\n",
       "      <td>Quando ocorreu o recorde de incêndios floresta...</td>\n",
       "      <td></td>\n",
       "      <td>2010.</td>\n",
       "    </tr>\n",
       "    <tr>\n",
       "      <th>4</th>\n",
       "      <td>Onça pintada está ameaçada de extinção</td>\n",
       "      <td></td>\n",
       "      <td>Mata Atlântica</td>\n",
       "    </tr>\n",
       "  </tbody>\n",
       "</table>\n",
       "</div>"
      ],
      "text/plain": [
       "                                            question answer  \\\n",
       "0  Qual foi o recorde de queimadas na Floresta Am...          \n",
       "1  Qual foi o posicionamento do Brasil na Cúpula ...          \n",
       "2  Quais foram as causas dos incêndios no Pantana...          \n",
       "3  Quando ocorreu o recorde de incêndios floresta...          \n",
       "4             Onça pintada está ameaçada de extinção          \n",
       "\n",
       "                      gen_answer  \n",
       "0  Mais de 3 milhões de hectares  \n",
       "1                 o clima global  \n",
       "2                   Desmatamento  \n",
       "3                          2010.  \n",
       "4                 Mata Atlântica  "
      ]
     },
     "execution_count": 18,
     "metadata": {},
     "output_type": "execute_result"
    }
   ],
   "source": [
    "df = pd.DataFrame({'question':questions, 'answer': test_labels, 'gen_answer': test_outputs})\n",
    "print(len(df))\n",
    "df.head()"
   ]
  },
  {
   "cell_type": "code",
   "execution_count": 19,
   "metadata": {},
   "outputs": [],
   "source": [
    "from tqdm import tqdm\n",
    "import matplotlib.pyplot as plt\n",
    "import seaborn as sns\n",
    "sns.set(font_scale=1.0)"
   ]
  },
  {
   "cell_type": "code",
   "execution_count": 20,
   "metadata": {},
   "outputs": [
    {
     "name": "stderr",
     "output_type": "stream",
     "text": [
      "7it [00:00, 623.87it/s]\n"
     ]
    }
   ],
   "source": [
    "model_name = model_checkpoint\n",
    "for _, row in tqdm(df.iterrows()):\n",
    "    # F1-score\n",
    "    _, f1_score = scores('f1_score_qa', row['gen_answer'], row['answer'])\n",
    "    df.loc[df['question']==row['question'], '{}_f1'.format(model_name)] = round(f1_score[0], 2)\n",
    "\n",
    "    # Rouge\n",
    "    _, rouge_l = scores('rouge_l_qa', row['gen_answer'], row['answer'])\n",
    "    rouge_l_f = rouge_l\n",
    "    df.loc[df['question']==row['question'], '{}_rouge_l_f'.format(model_name)] = round(rouge_l_f, 2)\n",
    "\n",
    "    # Exact Match\n",
    "    _, em = scores('em_qa', row['gen_answer'], row['answer'])\n",
    "    df.loc[df['question']==row['question'], '{}_em'.format(model_name)] = round(em, 2)\n",
    "    \n",
    "filename = 'TEST_RESULTS_{}_{}.csv'.format(model_name.split('/')[0], model_name.split('/')[1])\n",
    "df.to_csv(filename, index=False)"
   ]
  },
  {
   "cell_type": "code",
   "execution_count": 21,
   "metadata": {},
   "outputs": [
    {
     "data": {
      "text/html": [
       "<div>\n",
       "<style scoped>\n",
       "    .dataframe tbody tr th:only-of-type {\n",
       "        vertical-align: middle;\n",
       "    }\n",
       "\n",
       "    .dataframe tbody tr th {\n",
       "        vertical-align: top;\n",
       "    }\n",
       "\n",
       "    .dataframe thead th {\n",
       "        text-align: right;\n",
       "    }\n",
       "</style>\n",
       "<table border=\"1\" class=\"dataframe\">\n",
       "  <thead>\n",
       "    <tr style=\"text-align: right;\">\n",
       "      <th></th>\n",
       "      <th>question</th>\n",
       "      <th>answer</th>\n",
       "      <th>gen_answer</th>\n",
       "      <th>QA-ptt5-base-without-retrieval/checkpoint-9000_f1</th>\n",
       "      <th>QA-ptt5-base-without-retrieval/checkpoint-9000_rouge_l_f</th>\n",
       "      <th>QA-ptt5-base-without-retrieval/checkpoint-9000_em</th>\n",
       "    </tr>\n",
       "  </thead>\n",
       "  <tbody>\n",
       "    <tr>\n",
       "      <th>0</th>\n",
       "      <td>Qual foi o recorde de queimadas na Floresta Am...</td>\n",
       "      <td></td>\n",
       "      <td>Mais de 3 milhões de hectares</td>\n",
       "      <td>0.0</td>\n",
       "      <td>0.0</td>\n",
       "      <td>0.0</td>\n",
       "    </tr>\n",
       "    <tr>\n",
       "      <th>1</th>\n",
       "      <td>Qual foi o posicionamento do Brasil na Cúpula ...</td>\n",
       "      <td></td>\n",
       "      <td>o clima global</td>\n",
       "      <td>0.0</td>\n",
       "      <td>0.0</td>\n",
       "      <td>0.0</td>\n",
       "    </tr>\n",
       "    <tr>\n",
       "      <th>2</th>\n",
       "      <td>Quais foram as causas dos incêndios no Pantana...</td>\n",
       "      <td></td>\n",
       "      <td>Desmatamento</td>\n",
       "      <td>0.0</td>\n",
       "      <td>0.0</td>\n",
       "      <td>0.0</td>\n",
       "    </tr>\n",
       "    <tr>\n",
       "      <th>3</th>\n",
       "      <td>Quando ocorreu o recorde de incêndios floresta...</td>\n",
       "      <td></td>\n",
       "      <td>2010.</td>\n",
       "      <td>0.0</td>\n",
       "      <td>0.0</td>\n",
       "      <td>0.0</td>\n",
       "    </tr>\n",
       "    <tr>\n",
       "      <th>4</th>\n",
       "      <td>Onça pintada está ameaçada de extinção</td>\n",
       "      <td></td>\n",
       "      <td>Mata Atlântica</td>\n",
       "      <td>0.0</td>\n",
       "      <td>0.0</td>\n",
       "      <td>0.0</td>\n",
       "    </tr>\n",
       "  </tbody>\n",
       "</table>\n",
       "</div>"
      ],
      "text/plain": [
       "                                            question answer  \\\n",
       "0  Qual foi o recorde de queimadas na Floresta Am...          \n",
       "1  Qual foi o posicionamento do Brasil na Cúpula ...          \n",
       "2  Quais foram as causas dos incêndios no Pantana...          \n",
       "3  Quando ocorreu o recorde de incêndios floresta...          \n",
       "4             Onça pintada está ameaçada de extinção          \n",
       "\n",
       "                      gen_answer  \\\n",
       "0  Mais de 3 milhões de hectares   \n",
       "1                 o clima global   \n",
       "2                   Desmatamento   \n",
       "3                          2010.   \n",
       "4                 Mata Atlântica   \n",
       "\n",
       "   QA-ptt5-base-without-retrieval/checkpoint-9000_f1  \\\n",
       "0                                                0.0   \n",
       "1                                                0.0   \n",
       "2                                                0.0   \n",
       "3                                                0.0   \n",
       "4                                                0.0   \n",
       "\n",
       "   QA-ptt5-base-without-retrieval/checkpoint-9000_rouge_l_f  \\\n",
       "0                                                0.0          \n",
       "1                                                0.0          \n",
       "2                                                0.0          \n",
       "3                                                0.0          \n",
       "4                                                0.0          \n",
       "\n",
       "   QA-ptt5-base-without-retrieval/checkpoint-9000_em  \n",
       "0                                                0.0  \n",
       "1                                                0.0  \n",
       "2                                                0.0  \n",
       "3                                                0.0  \n",
       "4                                                0.0  "
      ]
     },
     "execution_count": 21,
     "metadata": {},
     "output_type": "execute_result"
    }
   ],
   "source": [
    "df.head()"
   ]
  },
  {
   "cell_type": "code",
   "execution_count": 22,
   "metadata": {},
   "outputs": [],
   "source": [
    "sns.set(font_scale=1.0)"
   ]
  },
  {
   "cell_type": "code",
   "execution_count": 23,
   "metadata": {},
   "outputs": [
    {
     "data": {
      "text/html": [
       "<div>\n",
       "<style scoped>\n",
       "    .dataframe tbody tr th:only-of-type {\n",
       "        vertical-align: middle;\n",
       "    }\n",
       "\n",
       "    .dataframe tbody tr th {\n",
       "        vertical-align: top;\n",
       "    }\n",
       "\n",
       "    .dataframe thead th {\n",
       "        text-align: right;\n",
       "    }\n",
       "</style>\n",
       "<table border=\"1\" class=\"dataframe\">\n",
       "  <thead>\n",
       "    <tr style=\"text-align: right;\">\n",
       "      <th></th>\n",
       "      <th>QA-ptt5-base-without-retrieval/checkpoint-9000_f1</th>\n",
       "      <th>QA-ptt5-base-without-retrieval/checkpoint-9000_rouge_l_f</th>\n",
       "      <th>QA-ptt5-base-without-retrieval/checkpoint-9000_em</th>\n",
       "    </tr>\n",
       "  </thead>\n",
       "  <tbody>\n",
       "    <tr>\n",
       "      <th>count</th>\n",
       "      <td>7.0</td>\n",
       "      <td>7.0</td>\n",
       "      <td>7.0</td>\n",
       "    </tr>\n",
       "    <tr>\n",
       "      <th>mean</th>\n",
       "      <td>0.0</td>\n",
       "      <td>0.0</td>\n",
       "      <td>0.0</td>\n",
       "    </tr>\n",
       "    <tr>\n",
       "      <th>std</th>\n",
       "      <td>0.0</td>\n",
       "      <td>0.0</td>\n",
       "      <td>0.0</td>\n",
       "    </tr>\n",
       "    <tr>\n",
       "      <th>min</th>\n",
       "      <td>0.0</td>\n",
       "      <td>0.0</td>\n",
       "      <td>0.0</td>\n",
       "    </tr>\n",
       "    <tr>\n",
       "      <th>25%</th>\n",
       "      <td>0.0</td>\n",
       "      <td>0.0</td>\n",
       "      <td>0.0</td>\n",
       "    </tr>\n",
       "    <tr>\n",
       "      <th>50%</th>\n",
       "      <td>0.0</td>\n",
       "      <td>0.0</td>\n",
       "      <td>0.0</td>\n",
       "    </tr>\n",
       "    <tr>\n",
       "      <th>75%</th>\n",
       "      <td>0.0</td>\n",
       "      <td>0.0</td>\n",
       "      <td>0.0</td>\n",
       "    </tr>\n",
       "    <tr>\n",
       "      <th>max</th>\n",
       "      <td>0.0</td>\n",
       "      <td>0.0</td>\n",
       "      <td>0.0</td>\n",
       "    </tr>\n",
       "  </tbody>\n",
       "</table>\n",
       "</div>"
      ],
      "text/plain": [
       "       QA-ptt5-base-without-retrieval/checkpoint-9000_f1  \\\n",
       "count                                                7.0   \n",
       "mean                                                 0.0   \n",
       "std                                                  0.0   \n",
       "min                                                  0.0   \n",
       "25%                                                  0.0   \n",
       "50%                                                  0.0   \n",
       "75%                                                  0.0   \n",
       "max                                                  0.0   \n",
       "\n",
       "       QA-ptt5-base-without-retrieval/checkpoint-9000_rouge_l_f  \\\n",
       "count                                                7.0          \n",
       "mean                                                 0.0          \n",
       "std                                                  0.0          \n",
       "min                                                  0.0          \n",
       "25%                                                  0.0          \n",
       "50%                                                  0.0          \n",
       "75%                                                  0.0          \n",
       "max                                                  0.0          \n",
       "\n",
       "       QA-ptt5-base-without-retrieval/checkpoint-9000_em  \n",
       "count                                                7.0  \n",
       "mean                                                 0.0  \n",
       "std                                                  0.0  \n",
       "min                                                  0.0  \n",
       "25%                                                  0.0  \n",
       "50%                                                  0.0  \n",
       "75%                                                  0.0  \n",
       "max                                                  0.0  "
      ]
     },
     "execution_count": 23,
     "metadata": {},
     "output_type": "execute_result"
    }
   ],
   "source": [
    "df.describe()"
   ]
  },
  {
   "cell_type": "code",
   "execution_count": 24,
   "metadata": {},
   "outputs": [
    {
     "data": {
      "text/plain": [
       "<Figure size 7200x2160 with 0 Axes>"
      ]
     },
     "metadata": {},
     "output_type": "display_data"
    },
    {
     "data": {
      "image/png": "[encoded data removed]",
      "text/plain": [
       "<Figure size 180x180 with 2 Axes>"
      ]
     },
     "metadata": {},
     "output_type": "display_data"
    },
    {
     "data": {
      "text/plain": [
       "<Figure size 7200x2160 with 0 Axes>"
      ]
     },
     "metadata": {},
     "output_type": "display_data"
    },
    {
     "data": {
      "image/png": "[encoded data removed]",
      "text/plain": [
       "<Figure size 180x180 with 2 Axes>"
      ]
     },
     "metadata": {},
     "output_type": "display_data"
    },
    {
     "data": {
      "text/plain": [
       "<Figure size 7200x2160 with 0 Axes>"
      ]
     },
     "metadata": {},
     "output_type": "display_data"
    },
    {
     "data": {
      "image/png": "[encoded data removed]",
      "text/plain": [
       "<Figure size 180x180 with 2 Axes>"
      ]
     },
     "metadata": {},
     "output_type": "display_data"
    }
   ],
   "source": [
    "metrics = ['f1', 'rouge', 'em']\n",
    "for metric in metrics:    \n",
    "    plt.figure(figsize=(100, 30))\n",
    "\n",
    "    sns.pairplot(df.filter(like=metric), diag_kind='hist', height=2.5)\n",
    "    plt.show()"
   ]
  },
  {
   "cell_type": "code",
   "execution_count": null,
   "metadata": {},
   "outputs": [],
   "source": []
  }
 ],
 "metadata": {
  "kernelspec": {
   "display_name": "Python 3",
   "language": "python",
   "name": "python3"
  },
  "language_info": {
   "codemirror_mode": {
    "name": "ipython",
    "version": 3
   },
   "file_extension": ".py",
   "mimetype": "text/x-python",
   "name": "python",
   "nbconvert_exporter": "python",
   "pygments_lexer": "ipython3",
   "version": "3.8.5"
  }
 },
 "nbformat": 4,
 "nbformat_minor": 4
}
